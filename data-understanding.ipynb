{
 "cells": [
  {
   "cell_type": "code",
   "execution_count": 1,
   "metadata": {},
   "outputs": [],
   "source": [
    "#This file contains the code for Step2: Data Understanding.\n",
    "import findspark\n",
    "findspark.init('/home/ubuntu/spark-2.1.1-bin-hadoop2.7')\n",
    "import pyspark\n",
    "from pyspark.sql import SparkSession\n",
    "spark = SparkSession.builder.appName('du').getOrCreate()"
   ]
  },
  {
   "cell_type": "code",
   "execution_count": 2,
   "metadata": {},
   "outputs": [],
   "source": [
    "#Import essential libraries.\n",
    "from pyspark.sql.functions import col, when, mean as _mean, stddev as _stddev\n",
    "from pyspark.sql.types import *\n",
    "import pandas as pd\n",
    "import numpy as np\n",
    "import matplotlib.pyplot as plt\n",
    "import seaborn as sns"
   ]
  },
  {
   "cell_type": "code",
   "execution_count": 3,
   "metadata": {},
   "outputs": [],
   "source": [
    "#Function to set all the \"NA\" values to null.\n",
    "def set_NA_to_null(dataset):\n",
    "    attributes = dataset.columns\n",
    "    for attr in attributes:\n",
    "        dataset = dataset.withColumn(attr, when(col(attr) == \"NA\", None).otherwise(col(attr)))\n",
    "        dataset = dataset.withColumn(attr, when(col(attr) == \" \", None).otherwise(col(attr)))\n",
    "    return dataset"
   ]
  },
  {
   "cell_type": "code",
   "execution_count": 4,
   "metadata": {},
   "outputs": [],
   "source": [
    "#Function to check and print the amount of valid data in each column in the dataset.\n",
    "def check_validation(dataset):\n",
    "    attributes = dataset.columns\n",
    "    for attr in attributes:\n",
    "        valid_data = dataset.select(attr).na.drop()\n",
    "        amount = valid_data.count()\n",
    "        print(attr,\"\\t\", amount)"
   ]
  },
  {
   "cell_type": "code",
   "execution_count": 5,
   "metadata": {},
   "outputs": [],
   "source": [
    "#Function to check and print the completion of data in each column in the dataset.\n",
    "def check_completion(dataset):\n",
    "    attributes = dataset.columns\n",
    "    instance_no = dataset.select(\"No\").count()\n",
    "    for attr in attributes:\n",
    "        completion = dataset.select(attr).na.drop().count() / instance_no\n",
    "        print(attr, \"\\t\", round(completion *100,2), \"%\")"
   ]
  },
  {
   "cell_type": "code",
   "execution_count": 6,
   "metadata": {},
   "outputs": [],
   "source": [
    "#Function to check and print the amount of outliers in each numeric column in the dataset.\n",
    "def check_outliers(dataset):\n",
    "    numeric_sub_dataset = dataset.drop(\"cbwd\")\n",
    "    attributes = numeric_sub_dataset.columns\n",
    "    for attr in attributes:\n",
    "        df_stats = numeric_sub_dataset.select( _mean(col(attr)).alias('mean'),\n",
    "                                              _stddev(col(attr)).alias('std')).collect()\n",
    "        mean = df_stats[0]['mean']\n",
    "        std = df_stats[0]['std']\n",
    "        lower_limit = mean - 3 * std\n",
    "        upper_limit = mean + 3 * std\n",
    "        lower_outliers = numeric_sub_dataset.filter(numeric_sub_dataset[attr] < lower_limit).select(attr)\n",
    "        upper_outliers = numeric_sub_dataset.filter(numeric_sub_dataset[attr] > upper_limit).select(attr)\n",
    "        amount_of_outliers = lower_outliers.count() + upper_outliers.count()\n",
    "        print(attr,\"\\t\", amount_of_outliers)"
   ]
  },
  {
   "cell_type": "code",
   "execution_count": 7,
   "metadata": {},
   "outputs": [],
   "source": [
    "#Function to check and print the maximum and minumum value of each numeric column in the dataset.\n",
    "def check_max_and_min(dataset):\n",
    "    numeric_sub_dataset = dataset.drop(\"cbwd\")\n",
    "    sub_dataset = numeric_sub_dataset.toPandas()\n",
    "    attributes = pd.Series(sub_dataset.columns)\n",
    "    max_values = []\n",
    "    min_values = []\n",
    "    for attr in attributes:\n",
    "        min_value = sub_dataset[attr].min()\n",
    "        min_values.append(min_value)\n",
    "        max_value = sub_dataset[attr].max()\n",
    "        max_values.append(max_value)\n",
    "    max_df = pd.Series(max_values, index = attributes.tolist(), name = 'Max')\n",
    "    min_df = pd.Series(min_values, index = attributes.tolist(), name = 'Min')\n",
    "    attrs = pd.Series(attributes.tolist(), index = attributes.tolist(), name = 'Attributes')\n",
    "    max_min_df = pd.concat([attrs, min_df, max_df], axis = 1)\n",
    "    return max_min_df"
   ]
  },
  {
   "cell_type": "code",
   "execution_count": 8,
   "metadata": {},
   "outputs": [
    {
     "name": "stdout",
     "output_type": "stream",
     "text": [
      "+---+----+-----+---+----+-----+----+-----+------+----+-----+---+---+\n",
      "| No|year|month|day|hour|pm2.5|DEWP| TEMP|  PRES|cbwd|  Iws| Is| Ir|\n",
      "+---+----+-----+---+----+-----+----+-----+------+----+-----+---+---+\n",
      "|  1|2010|    1|  1|   0|   NA| -21|-11.0|1021.0|  NW| 1.79|  0|  0|\n",
      "|  2|2010|    1|  1|   1|   NA| -21|-12.0|1020.0|  NW| 4.92|  0|  0|\n",
      "|  3|2010|    1|  1|   2|   NA| -21|-11.0|1019.0|  NW| 6.71|  0|  0|\n",
      "|  4|2010|    1|  1|   3|   NA| -21|-14.0|1019.0|  NW| 9.84|  0|  0|\n",
      "|  5|2010|    1|  1|   4|   NA| -20|-12.0|1018.0|  NW|12.97|  0|  0|\n",
      "|  6|2010|    1|  1|   5|   NA| -19|-10.0|1017.0|  NW| 16.1|  0|  0|\n",
      "|  7|2010|    1|  1|   6|   NA| -19| -9.0|1017.0|  NW|19.23|  0|  0|\n",
      "|  8|2010|    1|  1|   7|   NA| -19| -9.0|1017.0|  NW|21.02|  0|  0|\n",
      "|  9|2010|    1|  1|   8|   NA| -19| -9.0|1017.0|  NW|24.15|  0|  0|\n",
      "| 10|2010|    1|  1|   9|   NA| -20| -8.0|1017.0|  NW|27.28|  0|  0|\n",
      "| 11|2010|    1|  1|  10|   NA| -19| -7.0|1017.0|  NW| 31.3|  0|  0|\n",
      "| 12|2010|    1|  1|  11|   NA| -18| -5.0|1017.0|  NW|34.43|  0|  0|\n",
      "| 13|2010|    1|  1|  12|   NA| -19| -5.0|1015.0|  NW|37.56|  0|  0|\n",
      "| 14|2010|    1|  1|  13|   NA| -18| -3.0|1015.0|  NW|40.69|  0|  0|\n",
      "| 15|2010|    1|  1|  14|   NA| -18| -2.0|1014.0|  NW|43.82|  0|  0|\n",
      "| 16|2010|    1|  1|  15|   NA| -18| -1.0|1014.0|  cv| 0.89|  0|  0|\n",
      "| 17|2010|    1|  1|  16|   NA| -19| -2.0|1015.0|  NW| 1.79|  0|  0|\n",
      "| 18|2010|    1|  1|  17|   NA| -18| -3.0|1015.0|  NW| 2.68|  0|  0|\n",
      "| 19|2010|    1|  1|  18|   NA| -18| -5.0|1016.0|  NE| 1.79|  0|  0|\n",
      "| 20|2010|    1|  1|  19|   NA| -17| -4.0|1017.0|  NW| 1.79|  0|  0|\n",
      "+---+----+-----+---+----+-----+----+-----+------+----+-----+---+---+\n",
      "only showing top 20 rows\n",
      "\n"
     ]
    }
   ],
   "source": [
    "#read \"Beijing PM2.5 Data\" and show it.\n",
    "dataset1 = spark.read.csv('./Datasets/PRSA_data_2010.1.1-2014.12.31.csv', inferSchema = True, header = True)\n",
    "dataset1.show()"
   ]
  },
  {
   "cell_type": "code",
   "execution_count": 9,
   "metadata": {},
   "outputs": [
    {
     "data": {
      "text/plain": [
       "['No',\n",
       " 'year',\n",
       " 'month',\n",
       " 'day',\n",
       " 'hour',\n",
       " 'pm',\n",
       " 'DEWP',\n",
       " 'TEMP',\n",
       " 'PRES',\n",
       " 'cbwd',\n",
       " 'Iws',\n",
       " 'Is',\n",
       " 'Ir']"
      ]
     },
     "execution_count": 9,
     "metadata": {},
     "output_type": "execute_result"
    }
   ],
   "source": [
    "#Show the attributes of \"Beijing PM2.5 Data\".\n",
    "dataset1 = dataset1.withColumnRenamed(\"pm2.5\",\"pm\")\n",
    "dataset1.columns"
   ]
  },
  {
   "cell_type": "code",
   "execution_count": 10,
   "metadata": {},
   "outputs": [
    {
     "data": {
      "text/plain": [
       "43824"
      ]
     },
     "execution_count": 10,
     "metadata": {},
     "output_type": "execute_result"
    }
   ],
   "source": [
    "#Show the amount of the instances of \"Beijing PM2.5 Data\".\n",
    "dataset1.count()"
   ]
  },
  {
   "cell_type": "code",
   "execution_count": 11,
   "metadata": {
    "scrolled": true
   },
   "outputs": [
    {
     "name": "stdout",
     "output_type": "stream",
     "text": [
      "root\n",
      " |-- No: integer (nullable = true)\n",
      " |-- year: integer (nullable = true)\n",
      " |-- month: integer (nullable = true)\n",
      " |-- day: integer (nullable = true)\n",
      " |-- hour: integer (nullable = true)\n",
      " |-- pm: string (nullable = true)\n",
      " |-- DEWP: integer (nullable = true)\n",
      " |-- TEMP: double (nullable = true)\n",
      " |-- PRES: double (nullable = true)\n",
      " |-- cbwd: string (nullable = true)\n",
      " |-- Iws: double (nullable = true)\n",
      " |-- Is: integer (nullable = true)\n",
      " |-- Ir: integer (nullable = true)\n",
      "\n"
     ]
    }
   ],
   "source": [
    "#Show the data types of the instances of \"Beijing PM2.5 Data\".\n",
    "dataset1.printSchema()"
   ]
  },
  {
   "cell_type": "code",
   "execution_count": 12,
   "metadata": {},
   "outputs": [
    {
     "name": "stdout",
     "output_type": "stream",
     "text": [
      "+---+----+-----+---+----+----+----+-----+------+----+-----+---+---+\n",
      "| No|year|month|day|hour|  pm|DEWP| TEMP|  PRES|cbwd|  Iws| Is| Ir|\n",
      "+---+----+-----+---+----+----+----+-----+------+----+-----+---+---+\n",
      "|  1|2010|    1|  1|   0|null| -21|-11.0|1021.0|  NW| 1.79|  0|  0|\n",
      "|  2|2010|    1|  1|   1|null| -21|-12.0|1020.0|  NW| 4.92|  0|  0|\n",
      "|  3|2010|    1|  1|   2|null| -21|-11.0|1019.0|  NW| 6.71|  0|  0|\n",
      "|  4|2010|    1|  1|   3|null| -21|-14.0|1019.0|  NW| 9.84|  0|  0|\n",
      "|  5|2010|    1|  1|   4|null| -20|-12.0|1018.0|  NW|12.97|  0|  0|\n",
      "|  6|2010|    1|  1|   5|null| -19|-10.0|1017.0|  NW| 16.1|  0|  0|\n",
      "|  7|2010|    1|  1|   6|null| -19| -9.0|1017.0|  NW|19.23|  0|  0|\n",
      "|  8|2010|    1|  1|   7|null| -19| -9.0|1017.0|  NW|21.02|  0|  0|\n",
      "|  9|2010|    1|  1|   8|null| -19| -9.0|1017.0|  NW|24.15|  0|  0|\n",
      "| 10|2010|    1|  1|   9|null| -20| -8.0|1017.0|  NW|27.28|  0|  0|\n",
      "| 11|2010|    1|  1|  10|null| -19| -7.0|1017.0|  NW| 31.3|  0|  0|\n",
      "| 12|2010|    1|  1|  11|null| -18| -5.0|1017.0|  NW|34.43|  0|  0|\n",
      "| 13|2010|    1|  1|  12|null| -19| -5.0|1015.0|  NW|37.56|  0|  0|\n",
      "| 14|2010|    1|  1|  13|null| -18| -3.0|1015.0|  NW|40.69|  0|  0|\n",
      "| 15|2010|    1|  1|  14|null| -18| -2.0|1014.0|  NW|43.82|  0|  0|\n",
      "| 16|2010|    1|  1|  15|null| -18| -1.0|1014.0|  cv| 0.89|  0|  0|\n",
      "| 17|2010|    1|  1|  16|null| -19| -2.0|1015.0|  NW| 1.79|  0|  0|\n",
      "| 18|2010|    1|  1|  17|null| -18| -3.0|1015.0|  NW| 2.68|  0|  0|\n",
      "| 19|2010|    1|  1|  18|null| -18| -5.0|1016.0|  NE| 1.79|  0|  0|\n",
      "| 20|2010|    1|  1|  19|null| -17| -4.0|1017.0|  NW| 1.79|  0|  0|\n",
      "+---+----+-----+---+----+----+----+-----+------+----+-----+---+---+\n",
      "only showing top 20 rows\n",
      "\n"
     ]
    }
   ],
   "source": [
    "#Call the function to set \"NA\" values to null for data quality verification.\n",
    "dataset1 = set_NA_to_null(dataset1)\n",
    "dataset1.show()"
   ]
  },
  {
   "cell_type": "code",
   "execution_count": 13,
   "metadata": {},
   "outputs": [
    {
     "name": "stdout",
     "output_type": "stream",
     "text": [
      "No \t 43824\n",
      "year \t 43824\n",
      "month \t 43824\n",
      "day \t 43824\n",
      "hour \t 43824\n",
      "pm \t 41757\n",
      "DEWP \t 43824\n",
      "TEMP \t 43824\n",
      "PRES \t 43824\n",
      "cbwd \t 43824\n",
      "Iws \t 43824\n",
      "Is \t 43824\n",
      "Ir \t 43824\n"
     ]
    }
   ],
   "source": [
    "#Call the function to check the amount of valid data.\n",
    "check_validation(dataset1)"
   ]
  },
  {
   "cell_type": "code",
   "execution_count": 14,
   "metadata": {},
   "outputs": [
    {
     "name": "stdout",
     "output_type": "stream",
     "text": [
      "root\n",
      " |-- No: integer (nullable = true)\n",
      " |-- year: integer (nullable = true)\n",
      " |-- month: integer (nullable = true)\n",
      " |-- day: integer (nullable = true)\n",
      " |-- hour: integer (nullable = true)\n",
      " |-- pm: integer (nullable = true)\n",
      " |-- DEWP: integer (nullable = true)\n",
      " |-- TEMP: double (nullable = true)\n",
      " |-- PRES: double (nullable = true)\n",
      " |-- cbwd: string (nullable = true)\n",
      " |-- Iws: double (nullable = true)\n",
      " |-- Is: integer (nullable = true)\n",
      " |-- Ir: integer (nullable = true)\n",
      "\n"
     ]
    }
   ],
   "source": [
    "#Change data type of pm2.5 to integer type.\n",
    "dataset1 = dataset1.withColumn(\"pm\",dataset1[\"pm\"].cast(IntegerType()))\n",
    "dataset1.printSchema()"
   ]
  },
  {
   "cell_type": "code",
   "execution_count": 15,
   "metadata": {},
   "outputs": [
    {
     "name": "stdout",
     "output_type": "stream",
     "text": [
      "No \t 100.0 %\n",
      "year \t 100.0 %\n",
      "month \t 100.0 %\n",
      "day \t 100.0 %\n",
      "hour \t 100.0 %\n",
      "pm \t 95.28 %\n",
      "DEWP \t 100.0 %\n",
      "TEMP \t 100.0 %\n",
      "PRES \t 100.0 %\n",
      "cbwd \t 100.0 %\n",
      "Iws \t 100.0 %\n",
      "Is \t 100.0 %\n",
      "Ir \t 100.0 %\n"
     ]
    }
   ],
   "source": [
    "#Call the function to check the completion of each column.\n",
    "check_completion(dataset1)"
   ]
  },
  {
   "cell_type": "code",
   "execution_count": 16,
   "metadata": {},
   "outputs": [
    {
     "name": "stdout",
     "output_type": "stream",
     "text": [
      "No \t 0\n",
      "year \t 0\n",
      "month \t 0\n",
      "day \t 0\n",
      "hour \t 0\n",
      "pm \t 769\n",
      "DEWP \t 0\n",
      "TEMP \t 0\n",
      "PRES \t 0\n",
      "Iws \t 1163\n",
      "Is \t 256\n",
      "Ir \t 613\n"
     ]
    }
   ],
   "source": [
    "#Call the function to check the amount of outliers for each column.\n",
    "check_outliers(dataset1)"
   ]
  },
  {
   "cell_type": "code",
   "execution_count": 17,
   "metadata": {},
   "outputs": [
    {
     "name": "stdout",
     "output_type": "stream",
     "text": [
      "+----------+------+-------+\n",
      "|Attributes|   Min|    Max|\n",
      "+----------+------+-------+\n",
      "|        No|   1.0|43824.0|\n",
      "|      year|2010.0| 2014.0|\n",
      "|     month|   1.0|   12.0|\n",
      "|       day|   1.0|   31.0|\n",
      "|      hour|   0.0|   23.0|\n",
      "|        pm|   0.0|  994.0|\n",
      "|      DEWP| -40.0|   28.0|\n",
      "|      TEMP| -19.0|   42.0|\n",
      "|      PRES| 991.0| 1046.0|\n",
      "|       Iws|  0.45|  585.6|\n",
      "|        Is|   0.0|   27.0|\n",
      "|        Ir|   0.0|   36.0|\n",
      "+----------+------+-------+\n",
      "\n"
     ]
    }
   ],
   "source": [
    "#Call the function to get the maximum and minimum values for each column.\n",
    "max_min_df = spark.createDataFrame(check_max_and_min(dataset1))\n",
    "max_min_df.show()"
   ]
  },
  {
   "cell_type": "code",
   "execution_count": 18,
   "metadata": {},
   "outputs": [
    {
     "name": "stdout",
     "output_type": "stream",
     "text": [
      "+-------+-------------------+-------------------+\n",
      "|summary|                 Is|                 Ir|\n",
      "+-------+-------------------+-------------------+\n",
      "|  count|              43824|              43824|\n",
      "|   mean|0.05273366192040891|0.19491602774735306|\n",
      "| stddev| 0.7603747364300517| 1.4158667068673554|\n",
      "|    min|                  0|                  0|\n",
      "|    max|                 27|                 36|\n",
      "+-------+-------------------+-------------------+\n",
      "\n"
     ]
    }
   ],
   "source": [
    "#Get statistical data for \"Is\" and \"Ir\".\n",
    "dataset1.select('Is','Ir').describe().show()"
   ]
  },
  {
   "cell_type": "code",
   "execution_count": 19,
   "metadata": {},
   "outputs": [
    {
     "data": {
      "image/png": "[encoded data removed]",
      "text/plain": [
       "<Figure size 432x288 with 1 Axes>"
      ]
     },
     "metadata": {},
     "output_type": "display_data"
    },
    {
     "data": {
      "image/png": "[encoded data removed]",
      "text/plain": [
       "<Figure size 432x288 with 1 Axes>"
      ]
     },
     "metadata": {},
     "output_type": "display_data"
    }
   ],
   "source": [
    "#Explore the data of cumulated hours of rain.\n",
    "dataset1 = dataset1.toPandas()\n",
    "pm25_b = dataset1[\"pm\"]\n",
    "ir = dataset1[\"Ir\"]\n",
    "sns.distplot(ir, kde=False)\n",
    "plt.ylabel(\"Count\")\n",
    "plt.xlabel(\"Cumulated Hours of Rain\")\n",
    "plt.show()\n",
    "\n",
    "plt.scatter(ir,pm25_b)\n",
    "plt.ylabel(\"PM2.5\")\n",
    "plt.xlabel(\"Cumulated Hours of Rain\")\n",
    "plt.show()"
   ]
  },
  {
   "cell_type": "code",
   "execution_count": 20,
   "metadata": {},
   "outputs": [
    {
     "data": {
      "image/png": "[encoded data removed]",
      "text/plain": [
       "<Figure size 432x288 with 1 Axes>"
      ]
     },
     "metadata": {},
     "output_type": "display_data"
    },
    {
     "data": {
      "image/png": "[encoded data removed]",
      "text/plain": [
       "<Figure size 432x288 with 1 Axes>"
      ]
     },
     "metadata": {},
     "output_type": "display_data"
    }
   ],
   "source": [
    "#Explore the data of cumulated hours of snow.\n",
    "isnow = dataset1[\"Is\"]\n",
    "sns.distplot(isnow, kde=False)\n",
    "plt.ylabel(\"Count\")\n",
    "plt.xlabel(\"Cumulated Hours of Snow\")\n",
    "plt.show()\n",
    "\n",
    "plt.scatter(isnow,pm25_b)\n",
    "plt.ylabel(\"PM2.5\")\n",
    "plt.xlabel(\"Cumulated Hours of Snow\")\n",
    "plt.show()"
   ]
  },
  {
   "cell_type": "code",
   "execution_count": 21,
   "metadata": {},
   "outputs": [
    {
     "name": "stdout",
     "output_type": "stream",
     "text": [
      "+---+----+-----+---+----+------+---------+-------------+---------------+----------+----+----+----+----+----+-----+-------------+-----+\n",
      "| No|year|month|day|hour|season|PM_Dongsi|PM_Dongsihuan|PM_Nongzhanguan|PM_US Post|DEWP|HUMI|PRES|TEMP|cbwd|  Iws|precipitation|Iprec|\n",
      "+---+----+-----+---+----+------+---------+-------------+---------------+----------+----+----+----+----+----+-----+-------------+-----+\n",
      "|  1|2010|    1|  1|   0|     4|       NA|           NA|             NA|        NA| -21|  43|1021| -11|  NW| 1.79|            0|    0|\n",
      "|  2|2010|    1|  1|   1|     4|       NA|           NA|             NA|        NA| -21|  47|1020| -12|  NW| 4.92|            0|    0|\n",
      "|  3|2010|    1|  1|   2|     4|       NA|           NA|             NA|        NA| -21|  43|1019| -11|  NW| 6.71|            0|    0|\n",
      "|  4|2010|    1|  1|   3|     4|       NA|           NA|             NA|        NA| -21|  55|1019| -14|  NW| 9.84|            0|    0|\n",
      "|  5|2010|    1|  1|   4|     4|       NA|           NA|             NA|        NA| -20|  51|1018| -12|  NW|12.97|            0|    0|\n",
      "+---+----+-----+---+----+------+---------+-------------+---------------+----------+----+----+----+----+----+-----+-------------+-----+\n",
      "only showing top 5 rows\n",
      "\n"
     ]
    }
   ],
   "source": [
    "#read \"PM2.5 Data of Five Chinese Cities (the Part of Beijing)\" and show it.\n",
    "dataset2 = spark.read.csv('./Datasets/BeijingPM20100101_20151231.csv', \n",
    "                          inferSchema = True, header = True)\n",
    "dataset2.show(5)"
   ]
  },
  {
   "cell_type": "code",
   "execution_count": 22,
   "metadata": {},
   "outputs": [
    {
     "data": {
      "text/plain": [
       "['No',\n",
       " 'year',\n",
       " 'month',\n",
       " 'day',\n",
       " 'hour',\n",
       " 'season',\n",
       " 'PM_Dongsi',\n",
       " 'PM_Dongsihuan',\n",
       " 'PM_Nongzhanguan',\n",
       " 'PM_US Post',\n",
       " 'DEWP',\n",
       " 'HUMI',\n",
       " 'PRES',\n",
       " 'TEMP',\n",
       " 'cbwd',\n",
       " 'Iws',\n",
       " 'precipitation',\n",
       " 'Iprec']"
      ]
     },
     "execution_count": 22,
     "metadata": {},
     "output_type": "execute_result"
    }
   ],
   "source": [
    "#Show the attributes of \"PM2.5 Data of Five Chinese Cities (the Part of Beijing)\".\n",
    "dataset2.columns"
   ]
  },
  {
   "cell_type": "code",
   "execution_count": 23,
   "metadata": {},
   "outputs": [
    {
     "data": {
      "text/plain": [
       "52584"
      ]
     },
     "execution_count": 23,
     "metadata": {},
     "output_type": "execute_result"
    }
   ],
   "source": [
    "#Show the amount of the instances of \"PM2.5 Data of Five Chinese Cities (the Part of Beijing)\".\n",
    "dataset2.count()"
   ]
  },
  {
   "cell_type": "code",
   "execution_count": 24,
   "metadata": {
    "scrolled": true
   },
   "outputs": [
    {
     "name": "stdout",
     "output_type": "stream",
     "text": [
      "root\n",
      " |-- No: integer (nullable = true)\n",
      " |-- year: integer (nullable = true)\n",
      " |-- month: integer (nullable = true)\n",
      " |-- day: integer (nullable = true)\n",
      " |-- hour: integer (nullable = true)\n",
      " |-- season: integer (nullable = true)\n",
      " |-- PM_Dongsi: string (nullable = true)\n",
      " |-- PM_Dongsihuan: string (nullable = true)\n",
      " |-- PM_Nongzhanguan: string (nullable = true)\n",
      " |-- PM_US Post: string (nullable = true)\n",
      " |-- DEWP: string (nullable = true)\n",
      " |-- HUMI: string (nullable = true)\n",
      " |-- PRES: string (nullable = true)\n",
      " |-- TEMP: string (nullable = true)\n",
      " |-- cbwd: string (nullable = true)\n",
      " |-- Iws: string (nullable = true)\n",
      " |-- precipitation: string (nullable = true)\n",
      " |-- Iprec: string (nullable = true)\n",
      "\n"
     ]
    }
   ],
   "source": [
    "#Show the data types of the instances of \"PM2.5 Data of Five Chinese Cities (the Part of Beijing)\".\n",
    "dataset2.printSchema()"
   ]
  },
  {
   "cell_type": "code",
   "execution_count": 25,
   "metadata": {},
   "outputs": [
    {
     "name": "stdout",
     "output_type": "stream",
     "text": [
      "+---+----+-----+---+----+------+---------+-------------+---------------+----------+----+----+----+----+----+-----+-------------+-----+\n",
      "| No|year|month|day|hour|season|PM_Dongsi|PM_Dongsihuan|PM_Nongzhanguan|PM_US Post|DEWP|HUMI|PRES|TEMP|cbwd|  Iws|precipitation|Iprec|\n",
      "+---+----+-----+---+----+------+---------+-------------+---------------+----------+----+----+----+----+----+-----+-------------+-----+\n",
      "|  1|2010|    1|  1|   0|     4|     null|         null|           null|      null| -21|  43|1021| -11|  NW| 1.79|            0|    0|\n",
      "|  2|2010|    1|  1|   1|     4|     null|         null|           null|      null| -21|  47|1020| -12|  NW| 4.92|            0|    0|\n",
      "|  3|2010|    1|  1|   2|     4|     null|         null|           null|      null| -21|  43|1019| -11|  NW| 6.71|            0|    0|\n",
      "|  4|2010|    1|  1|   3|     4|     null|         null|           null|      null| -21|  55|1019| -14|  NW| 9.84|            0|    0|\n",
      "|  5|2010|    1|  1|   4|     4|     null|         null|           null|      null| -20|  51|1018| -12|  NW|12.97|            0|    0|\n",
      "+---+----+-----+---+----+------+---------+-------------+---------------+----------+----+----+----+----+----+-----+-------------+-----+\n",
      "only showing top 5 rows\n",
      "\n"
     ]
    }
   ],
   "source": [
    "#Call the function to set \"NA\" values to null for data quality verification.\n",
    "dataset2 = set_NA_to_null(dataset2)\n",
    "dataset2.show(5)"
   ]
  },
  {
   "cell_type": "code",
   "execution_count": 26,
   "metadata": {},
   "outputs": [
    {
     "name": "stdout",
     "output_type": "stream",
     "text": [
      "No \t 52584\n",
      "year \t 52584\n",
      "month \t 52584\n",
      "day \t 52584\n",
      "hour \t 52584\n",
      "season \t 52584\n",
      "PM_Dongsi \t 25052\n",
      "PM_Dongsihuan \t 20508\n",
      "PM_Nongzhanguan \t 24931\n",
      "PM_US Post \t 50387\n",
      "DEWP \t 52579\n",
      "HUMI \t 52245\n",
      "PRES \t 52245\n",
      "TEMP \t 52579\n",
      "cbwd \t 52579\n",
      "Iws \t 52579\n",
      "precipitation \t 52100\n",
      "Iprec \t 52100\n"
     ]
    }
   ],
   "source": [
    "#Call the function to check the amount of valid data.\n",
    "check_validation(dataset2)"
   ]
  },
  {
   "cell_type": "code",
   "execution_count": 27,
   "metadata": {},
   "outputs": [
    {
     "name": "stdout",
     "output_type": "stream",
     "text": [
      "root\n",
      " |-- No: integer (nullable = true)\n",
      " |-- year: integer (nullable = true)\n",
      " |-- month: integer (nullable = true)\n",
      " |-- day: integer (nullable = true)\n",
      " |-- hour: integer (nullable = true)\n",
      " |-- season: integer (nullable = true)\n",
      " |-- PM_Dongsi: integer (nullable = true)\n",
      " |-- PM_Dongsihuan: integer (nullable = true)\n",
      " |-- PM_Nongzhanguan: integer (nullable = true)\n",
      " |-- PM_US Post: integer (nullable = true)\n",
      " |-- DEWP: integer (nullable = true)\n",
      " |-- HUMI: integer (nullable = true)\n",
      " |-- PRES: integer (nullable = true)\n",
      " |-- TEMP: integer (nullable = true)\n",
      " |-- cbwd: string (nullable = true)\n",
      " |-- Iws: double (nullable = true)\n",
      " |-- precipitation: integer (nullable = true)\n",
      " |-- Iprec: integer (nullable = true)\n",
      "\n"
     ]
    }
   ],
   "source": [
    "#Change data type of numeric data to integer or double type.\n",
    "dataset2 = dataset2.withColumn(\"PM_Dongsi\",dataset2[\"PM_Dongsi\"].cast(IntegerType()))\n",
    "dataset2 = dataset2.withColumn(\"PM_Dongsihuan\",dataset2[\"PM_Dongsihuan\"].cast(IntegerType()))\n",
    "dataset2 = dataset2.withColumn(\"PM_Nongzhanguan\",dataset2[\"PM_Nongzhanguan\"].cast(IntegerType()))\n",
    "dataset2 = dataset2.withColumn(\"PM_US Post\",dataset2[\"PM_US Post\"].cast(IntegerType()))\n",
    "dataset2 = dataset2.withColumn(\"DEWP\",dataset2[\"DEWP\"].cast(IntegerType()))\n",
    "dataset2 = dataset2.withColumn(\"HUMI\",dataset2[\"HUMI\"].cast(IntegerType()))\n",
    "dataset2 = dataset2.withColumn(\"PRES\",dataset2[\"PRES\"].cast(IntegerType()))\n",
    "dataset2 = dataset2.withColumn(\"TEMP\",dataset2[\"TEMP\"].cast(IntegerType()))\n",
    "dataset2 = dataset2.withColumn(\"Iws\",dataset2[\"Iws\"].cast(DoubleType()))\n",
    "dataset2 = dataset2.withColumn(\"precipitation\",dataset2[\"precipitation\"].cast(IntegerType()))\n",
    "dataset2 = dataset2.withColumn(\"Iprec\",dataset2[\"Iprec\"].cast(IntegerType()))\n",
    "dataset2.printSchema()"
   ]
  },
  {
   "cell_type": "code",
   "execution_count": 28,
   "metadata": {},
   "outputs": [
    {
     "name": "stdout",
     "output_type": "stream",
     "text": [
      "No \t 100.0 %\n",
      "year \t 100.0 %\n",
      "month \t 100.0 %\n",
      "day \t 100.0 %\n",
      "hour \t 100.0 %\n",
      "season \t 100.0 %\n",
      "PM_Dongsi \t 47.64 %\n",
      "PM_Dongsihuan \t 39.0 %\n",
      "PM_Nongzhanguan \t 47.41 %\n",
      "PM_US Post \t 95.82 %\n",
      "DEWP \t 99.99 %\n",
      "HUMI \t 99.36 %\n",
      "PRES \t 99.36 %\n",
      "TEMP \t 99.99 %\n",
      "cbwd \t 99.99 %\n",
      "Iws \t 99.99 %\n",
      "precipitation \t 99.08 %\n",
      "Iprec \t 99.08 %\n"
     ]
    }
   ],
   "source": [
    "#Call the function to check the completion of each column.\n",
    "check_completion(dataset2)"
   ]
  },
  {
   "cell_type": "code",
   "execution_count": 29,
   "metadata": {},
   "outputs": [
    {
     "name": "stdout",
     "output_type": "stream",
     "text": [
      "No \t 0\n",
      "year \t 0\n",
      "month \t 0\n",
      "day \t 0\n",
      "hour \t 0\n",
      "season \t 0\n",
      "PM_Dongsi \t 413\n",
      "PM_Dongsihuan \t 394\n",
      "PM_Nongzhanguan \t 470\n",
      "PM_US Post \t 933\n",
      "DEWP \t 0\n",
      "HUMI \t 0\n",
      "PRES \t 0\n",
      "TEMP \t 0\n",
      "Iws \t 1388\n",
      "precipitation \t 1\n",
      "Iprec \t 1\n"
     ]
    }
   ],
   "source": [
    "#Call the function to check the amount of outliers for each column.\n",
    "check_outliers(dataset2)"
   ]
  },
  {
   "cell_type": "code",
   "execution_count": 30,
   "metadata": {},
   "outputs": [
    {
     "name": "stdout",
     "output_type": "stream",
     "text": [
      "+---------------+------+--------+\n",
      "|     Attributes|   Min|     Max|\n",
      "+---------------+------+--------+\n",
      "|             No|   1.0| 52584.0|\n",
      "|           year|2010.0|  2015.0|\n",
      "|          month|   1.0|    12.0|\n",
      "|            day|   1.0|    31.0|\n",
      "|           hour|   0.0|    23.0|\n",
      "|         season|   1.0|     4.0|\n",
      "|      PM_Dongsi|   3.0|   737.0|\n",
      "|  PM_Dongsihuan|   3.0|   672.0|\n",
      "|PM_Nongzhanguan|   3.0|   844.0|\n",
      "|     PM_US Post|   1.0|   994.0|\n",
      "|           DEWP| -40.0|    28.0|\n",
      "|           HUMI|   2.0|   100.0|\n",
      "|           PRES| 991.0|  1046.0|\n",
      "|           TEMP| -19.0|    42.0|\n",
      "|            Iws|  0.45|   585.6|\n",
      "|  precipitation|   0.0|999990.0|\n",
      "|          Iprec|   0.0|999990.0|\n",
      "+---------------+------+--------+\n",
      "\n"
     ]
    }
   ],
   "source": [
    "#Call the function to get the maximum and minimum values for each column.\n",
    "max_min_df = spark.createDataFrame(check_max_and_min(dataset2))\n",
    "max_min_df.show()"
   ]
  },
  {
   "cell_type": "code",
   "execution_count": 31,
   "metadata": {},
   "outputs": [
    {
     "name": "stdout",
     "output_type": "stream",
     "text": [
      "+-------+-----------------+\n",
      "|summary|       PM_US Post|\n",
      "+-------+-----------------+\n",
      "|  count|            50387|\n",
      "|   mean|95.90424117331851|\n",
      "| stddev|91.64377236804653|\n",
      "|    min|                1|\n",
      "|    max|              994|\n",
      "+-------+-----------------+\n",
      "\n",
      "+-------+------------------+-----------------+------------------+------------------+\n",
      "|summary|              DEWP|             HUMI|              PRES|              TEMP|\n",
      "+-------+------------------+-----------------+------------------+------------------+\n",
      "|  count|             52579|            52245|             52245|             52579|\n",
      "|   mean|2.0745544799254456|54.60231601110154| 1016.465403387884|12.587021434412978|\n",
      "| stddev|14.222058604097723| 25.9913550673888|10.295032148686303|12.098526776991708|\n",
      "|    min|               -40|                2|               991|               -19|\n",
      "|    max|                28|              100|              1046|                42|\n",
      "+-------+------------------+-----------------+------------------+------------------+\n",
      "\n",
      "+-------+------------------+------------------+------------------+\n",
      "|summary|               Iws|     precipitation|             Iprec|\n",
      "+-------+------------------+------------------+------------------+\n",
      "|  count|             52579|             52100|             52100|\n",
      "|   mean| 23.26182886704009|19.245028790786947|19.503282149712092|\n",
      "| stddev|49.281705508541435| 4381.035586211772| 4381.036077990199|\n",
      "|    min|              0.45|                 0|                 0|\n",
      "|    max|             585.6|            999990|            999990|\n",
      "+-------+------------------+------------------+------------------+\n",
      "\n"
     ]
    }
   ],
   "source": [
    "#Get statistical data for \"PM2.5 Data of Five Chinese Cities (the Part of Beijing)\".\n",
    "dataset2.select('PM_US Post').describe().show()\n",
    "dataset2.select('DEWP','HUMI','PRES','TEMP').describe().show()\n",
    "dataset2.select('Iws','precipitation','Iprec').describe().show()"
   ]
  },
  {
   "cell_type": "code",
   "execution_count": 32,
   "metadata": {},
   "outputs": [
    {
     "data": {
      "image/png": "[encoded data removed]",
      "text/plain": [
       "<Figure size 432x288 with 1 Axes>"
      ]
     },
     "metadata": {},
     "output_type": "display_data"
    }
   ],
   "source": [
    "#Explore the data of PM2.5 concentration.\n",
    "dataset2 = dataset2.toPandas()\n",
    "pm25 = dataset2[\"PM_US Post\"]\n",
    "sns.distplot(pm25, kde=False)\n",
    "plt.ylabel(\"Count\")\n",
    "plt.xlabel(\"PM2.5\")\n",
    "plt.show()"
   ]
  },
  {
   "cell_type": "code",
   "execution_count": 33,
   "metadata": {},
   "outputs": [
    {
     "data": {
      "image/png": "[encoded data removed]",
      "text/plain": [
       "<Figure size 432x288 with 1 Axes>"
      ]
     },
     "metadata": {},
     "output_type": "display_data"
    }
   ],
   "source": [
    "#Explore the data of combined wind speed.\n",
    "cbwd_values = dataset2[\"cbwd\"].value_counts()\n",
    "plt.pie(cbwd_values, labels = cbwd_values.index)\n",
    "plt.show()"
   ]
  },
  {
   "cell_type": "code",
   "execution_count": 34,
   "metadata": {},
   "outputs": [
    {
     "data": {
      "image/png": "[encoded data removed]",
      "text/plain": [
       "<Figure size 432x288 with 1 Axes>"
      ]
     },
     "metadata": {},
     "output_type": "display_data"
    },
    {
     "data": {
      "image/png": "[encoded data removed]",
      "text/plain": [
       "<Figure size 432x288 with 1 Axes>"
      ]
     },
     "metadata": {},
     "output_type": "display_data"
    }
   ],
   "source": [
    "#Explore the data of humidity.\n",
    "humi = dataset2[\"HUMI\"]\n",
    "sns.distplot(humi, kde=False)\n",
    "plt.ylabel(\"Count\")\n",
    "plt.xlabel(\"Humidity\")\n",
    "plt.show()\n",
    "\n",
    "plt.scatter(humi,pm25)\n",
    "plt.ylabel(\"PM2.5\")\n",
    "plt.xlabel(\"Humidity\")\n",
    "plt.show()"
   ]
  },
  {
   "cell_type": "code",
   "execution_count": 35,
   "metadata": {},
   "outputs": [
    {
     "data": {
      "image/png": "[encoded data removed]",
      "text/plain": [
       "<Figure size 432x288 with 1 Axes>"
      ]
     },
     "metadata": {},
     "output_type": "display_data"
    },
    {
     "data": {
      "image/png": "[encoded data removed]",
      "text/plain": [
       "<Figure size 432x288 with 1 Axes>"
      ]
     },
     "metadata": {},
     "output_type": "display_data"
    }
   ],
   "source": [
    "#Explore the data of cumulated wind speed.\n",
    "iws = dataset2[\"Iws\"]\n",
    "sns.distplot(iws, kde=False)\n",
    "plt.ylabel(\"Count\")\n",
    "plt.xlabel(\"Cumulated Wind Speed\")\n",
    "plt.show()\n",
    "\n",
    "plt.scatter(iws,pm25)\n",
    "plt.ylabel(\"PM2.5\")\n",
    "plt.xlabel(\"Cumulated Wind Speed\")\n",
    "plt.show()"
   ]
  },
  {
   "cell_type": "code",
   "execution_count": 36,
   "metadata": {},
   "outputs": [
    {
     "data": {
      "image/png": "[encoded data removed]",
      "text/plain": [
       "<Figure size 432x288 with 1 Axes>"
      ]
     },
     "metadata": {},
     "output_type": "display_data"
    },
    {
     "data": {
      "image/png": "[encoded data removed]",
      "text/plain": [
       "<Figure size 432x288 with 1 Axes>"
      ]
     },
     "metadata": {},
     "output_type": "display_data"
    }
   ],
   "source": [
    "#Explore the data of temperature.\n",
    "temp = dataset2[\"TEMP\"]\n",
    "sns.distplot(temp, kde=False)\n",
    "plt.ylabel(\"Count\")\n",
    "plt.xlabel(\"Temperature\")\n",
    "plt.show()\n",
    "\n",
    "plt.scatter(temp,pm25)\n",
    "plt.ylabel(\"PM2.5\")\n",
    "plt.xlabel(\"Temperature\")\n",
    "plt.show()"
   ]
  },
  {
   "cell_type": "code",
   "execution_count": 37,
   "metadata": {},
   "outputs": [
    {
     "data": {
      "image/png": "[encoded data removed]",
      "text/plain": [
       "<Figure size 432x288 with 1 Axes>"
      ]
     },
     "metadata": {},
     "output_type": "display_data"
    },
    {
     "data": {
      "image/png": "[encoded data removed]",
      "text/plain": [
       "<Figure size 432x288 with 1 Axes>"
      ]
     },
     "metadata": {},
     "output_type": "display_data"
    }
   ],
   "source": [
    "#Explore the data of dew point.\n",
    "dewp = dataset2[\"DEWP\"]\n",
    "sns.distplot(dewp, kde=False)\n",
    "plt.ylabel(\"Count\")\n",
    "plt.xlabel(\"Dew Point\")\n",
    "plt.show()\n",
    "\n",
    "plt.scatter(dewp,pm25)\n",
    "plt.ylabel(\"PM2.5\")\n",
    "plt.xlabel(\"Dew Point\")\n",
    "plt.show()"
   ]
  },
  {
   "cell_type": "code",
   "execution_count": 38,
   "metadata": {},
   "outputs": [
    {
     "data": {
      "image/png": "[encoded data removed]",
      "text/plain": [
       "<Figure size 432x288 with 1 Axes>"
      ]
     },
     "metadata": {},
     "output_type": "display_data"
    },
    {
     "data": {
      "image/png": "[encoded data removed]",
      "text/plain": [
       "<Figure size 432x288 with 1 Axes>"
      ]
     },
     "metadata": {},
     "output_type": "display_data"
    }
   ],
   "source": [
    "#Explore the data of pressure.\n",
    "pres = dataset2[\"PRES\"]\n",
    "sns.distplot(pres, kde=False)\n",
    "plt.ylabel(\"Count\")\n",
    "plt.xlabel(\"Pressure\")\n",
    "plt.show()\n",
    "\n",
    "plt.scatter(pres,pm25)\n",
    "plt.ylabel(\"PM2.5\")\n",
    "plt.xlabel(\"Pressure\")\n",
    "plt.show()"
   ]
  },
  {
   "cell_type": "code",
   "execution_count": null,
   "metadata": {},
   "outputs": [],
   "source": []
  }
 ],
 "metadata": {
  "kernelspec": {
   "display_name": "Python 3",
   "language": "python",
   "name": "python3"
  },
  "language_info": {
   "codemirror_mode": {
    "name": "ipython",
    "version": 3
   },
   "file_extension": ".py",
   "mimetype": "text/x-python",
   "name": "python",
   "nbconvert_exporter": "python",
   "pygments_lexer": "ipython3",
   "version": "3.5.2"
  }
 },
 "nbformat": 4,
 "nbformat_minor": 2
}
