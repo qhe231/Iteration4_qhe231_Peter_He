{
 "cells": [
  {
   "cell_type": "code",
   "execution_count": 1,
   "metadata": {},
   "outputs": [],
   "source": [
    "#This file contains the code from Step 3: Data Preparation to Step 8: Intepretation.\n",
    "import findspark\n",
    "findspark.init('/home/ubuntu/spark-2.1.1-bin-hadoop2.7')\n",
    "import pyspark\n",
    "from pyspark.sql import SparkSession\n",
    "spark = SparkSession.builder.appName('dp_to_int').getOrCreate()"
   ]
  },
  {
   "cell_type": "code",
   "execution_count": 2,
   "metadata": {},
   "outputs": [
    {
     "name": "stdout",
     "output_type": "stream",
     "text": [
      "Importing Jupyter notebook from iteration4_1_du.ipynb\n"
     ]
    }
   ],
   "source": [
    "#Import essential libraries.\n",
    "import nbimporter\n",
    "import iteration4_1_du as du\n",
    "\n",
    "import pandas as pd\n",
    "import numpy as np\n",
    "import statsmodels.api as sm\n",
    "import seaborn as sns\n",
    "import matplotlib.pyplot as plt \n",
    "\n",
    "from pyspark.sql.functions import col, when, countDistinct, avg, stddev, format_number\n",
    "from pyspark.sql.types import *\n",
    "from pyspark.ml.feature import StringIndexer, MinMaxScaler, VectorAssembler, VectorIndexer\n",
    "from pyspark.ml import Pipeline\n",
    "from pyspark.ml.linalg import Vectors\n",
    "from pyspark.ml.evaluation import RegressionEvaluator\n",
    "from pyspark.ml.regression import LinearRegression\n",
    "from pyspark.ml.regression import DecisionTreeRegressor"
   ]
  },
  {
   "cell_type": "code",
   "execution_count": 3,
   "metadata": {},
   "outputs": [],
   "source": [
    "#Function to get and return the predictors in the dataset.\n",
    "def get_predictors(dataset):\n",
    "    columns = dataset.columns\n",
    "    predictors = [c for c in columns if c not in [\"pm\",\"No\"]]\n",
    "    return predictors"
   ]
  },
  {
   "cell_type": "code",
   "execution_count": 4,
   "metadata": {},
   "outputs": [],
   "source": [
    "#Function to select and keep the useful attributes.\n",
    "#Those attributes who has more than 80% of the instances with the same value will be deleted.\n",
    "def feature_selection(dataset):\n",
    "    predictors = get_predictors(dataset)\n",
    "    dataset = dataset.toPandas()\n",
    "    instance_no = dataset.shape[0]\n",
    "    unimportant_features =[]\n",
    "    for predictor in predictors:\n",
    "        predictor_values = dataset[predictor].value_counts()\n",
    "        for value_amount in predictor_values:\n",
    "            if value_amount/instance_no > 0.9 :\n",
    "                unimportant_features.append(predictor)\n",
    "                dataset = dataset.drop(columns = [predictor])\n",
    "    print(\"Unimportant features: \", unimportant_features)\n",
    "    return dataset"
   ]
  },
  {
   "cell_type": "code",
   "execution_count": 5,
   "metadata": {},
   "outputs": [],
   "source": [
    "#Function to project the data of numeric predictors by normalizing them and return the projected dataset.\n",
    "def normalization(dataset):\n",
    "    predictors = get_predictors(dataset)\n",
    "    if \"cbwd\" in predictors:\n",
    "        predictors.remove(\"cbwd\")\n",
    "    columns_to_scale = predictors\n",
    "    assemblers = [VectorAssembler(inputCols=[col], \n",
    "                                  outputCol=col + \"_vec\") for col in columns_to_scale]\n",
    "    scalers = [MinMaxScaler(inputCol=col + \"_vec\", \n",
    "                            outputCol=col + \"_scaled\") for col in columns_to_scale]\n",
    "    pipeline = Pipeline(stages=assemblers + scalers)\n",
    "    scalerModel = pipeline.fit(dataset)\n",
    "    scaledData = scalerModel.transform(dataset)\n",
    "    return scaledData"
   ]
  },
  {
   "cell_type": "code",
   "execution_count": 6,
   "metadata": {},
   "outputs": [],
   "source": [
    "#Function to analyse the result of the linear regression model by calculating the statistical data of predictions versus actual record.\n",
    "def analyze_result_lr(model):\n",
    "    rmse = model.rootMeanSquaredError\n",
    "    r2 = model.r2\n",
    "    mae = model.meanAbsoluteError\n",
    "    print(\"Root Mean Squared Error:\",\"\\t\",rmse)\n",
    "    print(\"R2 Score:\",\"\\t\",r2)\n",
    "    print(\"Mean Absolute Error:\",\"\\t\",mae)\n",
    "    pred_data = model.predictions.select(\"pm\",\"prediction\")\n",
    "    res = model.residuals\n",
    "    max_e = res.agg({\"residuals\":\"max\"}).collect()[0]\n",
    "    print(\"Maximum Error:\",\"\\t\",max_e[\"max(residuals)\"])\n",
    "    min_e = res.agg({\"residuals\":\"min\"}).collect()[0]\n",
    "    print(\"Minimum Error:\",\"\\t\",min_e[\"min(residuals)\"])\n",
    "    mean_pm = pred_data.agg({\"pm\":\"mean\"}).collect()[0]\n",
    "    mean_pred = pred_data.agg({\"prediction\":\"mean\"}).collect()[0]\n",
    "    print(\"Mean Error:\",\"\\t\", abs(mean_pm[\"avg(pm)\"] - mean_pred[\"avg(prediction)\"]))"
   ]
  },
  {
   "cell_type": "code",
   "execution_count": 7,
   "metadata": {},
   "outputs": [],
   "source": [
    "#Function to analyse the result of the decision tree regressor model by calculating the statistical data of predictions versus actual record.\n",
    "def analyze_result_tree(model):\n",
    "    rmse_evaluator = RegressionEvaluator(labelCol=\"pm\", predictionCol=\"prediction\", \n",
    "                                         metricName=\"rmse\")\n",
    "    r2_evaluator = RegressionEvaluator(labelCol=\"pm\", predictionCol=\"prediction\", \n",
    "                                         metricName=\"r2\")\n",
    "    mae_evaluator = RegressionEvaluator(labelCol=\"pm\", predictionCol=\"prediction\", \n",
    "                                         metricName=\"mae\")\n",
    "    rmse = rmse_evaluator.evaluate(model)\n",
    "    r2 = r2_evaluator.evaluate(model)\n",
    "    mae = mae_evaluator.evaluate(model)\n",
    "    print(\"Root Mean Squared Error:\",\"\\t\",rmse)\n",
    "    print(\"R2 Score:\",\"\\t\",r2)\n",
    "    print(\"Mean Absolute Error:\",\"\\t\",mae)\n",
    "    pred_data = model.select(\"pm\",\"prediction\")\n",
    "    res = pred_data.withColumn('residuals',pred_data['pm']-pred_data['prediction'])\n",
    "    max_e = res.agg({\"residuals\":\"max\"}).collect()[0]\n",
    "    print(\"Maximum Error:\",\"\\t\",max_e[\"max(residuals)\"])\n",
    "    min_e = res.agg({\"residuals\":\"min\"}).collect()[0]\n",
    "    print(\"Minimum Error:\",\"\\t\",min_e[\"min(residuals)\"])\n",
    "    mean_pm = pred_data.agg({\"pm\":\"mean\"}).collect()[0]\n",
    "    mean_pred = pred_data.agg({\"prediction\":\"mean\"}).collect()[0]\n",
    "    print(\"Mean Error:\",\"\\t\", abs(mean_pm[\"avg(pm)\"] - mean_pred[\"avg(prediction)\"]))"
   ]
  },
  {
   "cell_type": "code",
   "execution_count": 8,
   "metadata": {},
   "outputs": [],
   "source": [
    "#Function to visualize the residuals of the model.\n",
    "def visualize_residuals(test_result):\n",
    "    predictions = test_result.select(\"prediction\").toPandas()\n",
    "    observations = test_result.select(\"pm\").toPandas()\n",
    "    sns.residplot(predictions, observations)\n",
    "    plt.show()\n",
    "    sns.distplot(observations, kde=False, norm_hist=True, color='blue', label='observation')                                    \n",
    "    sns.distplot(predictions, kde=False, norm_hist=True, color='red', label='prediction')\n",
    "    plt.title('Comparison of distributions', fontsize=16)\n",
    "    plt.legend()\n",
    "    plt.show()"
   ]
  },
  {
   "cell_type": "code",
   "execution_count": 9,
   "metadata": {},
   "outputs": [],
   "source": [
    "#Function to compare and visualize the values of actual record and predictions.\n",
    "def prediction_actual_comparison_visulisation(test_result):\n",
    "    predictions = test_result.select(\"prediction\").toPandas()\n",
    "    observations = test_result.select(\"pm\").toPandas()\n",
    "    plt.scatter(observations,predictions)\n",
    "    plt.xlabel('Actual Values')\n",
    "    plt.ylabel('Predicted Values')\n",
    "    plt.show()"
   ]
  },
  {
   "cell_type": "code",
   "execution_count": 10,
   "metadata": {},
   "outputs": [],
   "source": [
    "#Function visualizes the feature importance after conducting the model.\n",
    "def feature_importance(importance_,predictors_):\n",
    "    importance_value = []\n",
    "    for value in importance_:\n",
    "        importance_value.append(abs(value))\n",
    "    sum_values = sum(importance_value)\n",
    "    i=0\n",
    "    while i< len(importance_value):\n",
    "        importance_value[i] = importance_value[i] / sum_values\n",
    "        i+=1\n",
    "    importance_df = pd.Series(importance_value, index= predictors_)\n",
    "    importance_df.plot(kind='bar')\n",
    "    plt.show()"
   ]
  },
  {
   "cell_type": "code",
   "execution_count": 11,
   "metadata": {},
   "outputs": [],
   "source": [
    "#Function to visualize whether the predictors affected the target positively or negatively.\n",
    "def coefficients(coef_, predictors_):\n",
    "    colors = []\n",
    "    related = [1] * len(predictors_)\n",
    "    for value in coef_:\n",
    "        if value > 0:\n",
    "            colors.append('blue')\n",
    "        else:\n",
    "            colors.append('orange')\n",
    "    related_df = pd.Series(related, index = predictors_)\n",
    "    related_df.plot(kind='bar',color = colors).legend(['Negative','Positive'])\n",
    "    plt.gca().axes.get_yaxis().set_visible(False)\n",
    "    plt.show()"
   ]
  },
  {
   "cell_type": "code",
   "execution_count": 12,
   "metadata": {},
   "outputs": [],
   "source": [
    "#Function to visualize how each attribute affects the target respectively.\n",
    "def effect_graph(coef_, predictors_, intercept_):\n",
    "    pred = predictors_\n",
    "    pred.remove('cbwd')\n",
    "    coeff = coef_[:-1]\n",
    "    i=0\n",
    "    for value in coeff:\n",
    "        x=np.linspace(0,1,100)\n",
    "        y=value * x + intercept_\n",
    "        plt.plot(x,y)\n",
    "        plt.xlabel(pred[i])\n",
    "        plt.ylabel('pm2.5')\n",
    "        plt.grid()\n",
    "        plt.show()\n",
    "        i+=1"
   ]
  },
  {
   "cell_type": "code",
   "execution_count": 13,
   "metadata": {},
   "outputs": [],
   "source": [
    "dataset1 = spark.read.csv('./Datasets/PRSA_data_2010.1.1-2014.12.31.csv', inferSchema = True, header = True)"
   ]
  },
  {
   "cell_type": "code",
   "execution_count": 14,
   "metadata": {
    "scrolled": true
   },
   "outputs": [
    {
     "name": "stdout",
     "output_type": "stream",
     "text": [
      "+---+----+-----+---+----+-----+----+-----+------+----+-----+---+---+----+----+\n",
      "| No|year|month|day|hour|pm2.5|DEWP| TEMP|  PRES|cbwd|  Iws| Is| Ir|rain|snow|\n",
      "+---+----+-----+---+----+-----+----+-----+------+----+-----+---+---+----+----+\n",
      "|  1|2010|    1|  1|   0|   NA| -21|-11.0|1021.0|  NW| 1.79|  0|  0|  No|  No|\n",
      "|  2|2010|    1|  1|   1|   NA| -21|-12.0|1020.0|  NW| 4.92|  0|  0|  No|  No|\n",
      "|  3|2010|    1|  1|   2|   NA| -21|-11.0|1019.0|  NW| 6.71|  0|  0|  No|  No|\n",
      "|  4|2010|    1|  1|   3|   NA| -21|-14.0|1019.0|  NW| 9.84|  0|  0|  No|  No|\n",
      "|  5|2010|    1|  1|   4|   NA| -20|-12.0|1018.0|  NW|12.97|  0|  0|  No|  No|\n",
      "+---+----+-----+---+----+-----+----+-----+------+----+-----+---+---+----+----+\n",
      "only showing top 5 rows\n",
      "\n"
     ]
    }
   ],
   "source": [
    "#Construct two new attributes - rain and snow, then show the dataset.\n",
    "dataset1 = dataset1.withColumn('rain',when(col('Ir')>0, \"Yes\").otherwise(\"No\"))\n",
    "dataset1 = dataset1.withColumn('snow',when(col('Is')>0, \"Yes\").otherwise(\"No\"))\n",
    "dataset1.show(5)"
   ]
  },
  {
   "cell_type": "code",
   "execution_count": 15,
   "metadata": {},
   "outputs": [
    {
     "data": {
      "text/plain": [
       "52584"
      ]
     },
     "execution_count": 15,
     "metadata": {},
     "output_type": "execute_result"
    }
   ],
   "source": [
    "#Append two dataset with same attributes names.\n",
    "dataset2_a = spark.read.csv('./Datasets/BeijingPM2010_2012.csv', \n",
    "                            inferSchema = True, header = True)\n",
    "dataset2_b = spark.read.csv('./Datasets/BeijingPM2013_2015.csv', \n",
    "                            inferSchema = True, header = True)\n",
    "dataset2 = dataset2_a.union(dataset2_b)\n",
    "dataset2.count()"
   ]
  },
  {
   "cell_type": "code",
   "execution_count": 16,
   "metadata": {},
   "outputs": [
    {
     "data": {
      "text/plain": [
       "43824"
      ]
     },
     "execution_count": 16,
     "metadata": {},
     "output_type": "execute_result"
    }
   ],
   "source": [
    "#Select the items from the dataset.\n",
    "#Only the data before 2015 are kept for the further progress.\n",
    "dataset2 = dataset2.filter('year<2015')\n",
    "dataset2.count()"
   ]
  },
  {
   "cell_type": "code",
   "execution_count": 17,
   "metadata": {},
   "outputs": [
    {
     "name": "stdout",
     "output_type": "stream",
     "text": [
      "+----+-----+---+----+----+-------------+-----+\n",
      "|year|month|day|hour|HUMI|precipitation|Iprec|\n",
      "+----+-----+---+----+----+-------------+-----+\n",
      "|2010|    1|  1|   0|43.0|          0.0|  0.0|\n",
      "|2010|    1|  1|   1|47.0|          0.0|  0.0|\n",
      "|2010|    1|  1|   2|43.0|          0.0|  0.0|\n",
      "|2010|    1|  1|   3|55.0|          0.0|  0.0|\n",
      "|2010|    1|  1|   4|51.0|          0.0|  0.0|\n",
      "+----+-----+---+----+----+-------------+-----+\n",
      "only showing top 5 rows\n",
      "\n"
     ]
    }
   ],
   "source": [
    "#Select the attributes from the dataset.\n",
    "#Only high-quality and unique data are kept.\n",
    "#Those duplicated and low-quality attributes are discarded.\n",
    "dataset2 = dataset2.select(\"year\",\"month\",\"day\",\"hour\",\"HUMI\",\"precipitation\",\"Iprec\")\n",
    "dataset2.show(5)"
   ]
  },
  {
   "cell_type": "code",
   "execution_count": 18,
   "metadata": {},
   "outputs": [
    {
     "name": "stdout",
     "output_type": "stream",
     "text": [
      "+----+-----+---+----+---+----+----+-----+------+----+-----+---+---+----+----+----+-------------+-----+\n",
      "|year|month|day|hour| No|  pm|DEWP| TEMP|  PRES|cbwd|  Iws| Is| Ir|rain|snow|HUMI|precipitation|Iprec|\n",
      "+----+-----+---+----+---+----+----+-----+------+----+-----+---+---+----+----+----+-------------+-----+\n",
      "|2010|    1|  1|   0|  1|null| -21|-11.0|1021.0|  NW| 1.79|  0|  0|  No|  No|43.0|          0.0|  0.0|\n",
      "|2010|    1|  1|   1|  2|null| -21|-12.0|1020.0|  NW| 4.92|  0|  0|  No|  No|47.0|          0.0|  0.0|\n",
      "|2010|    1|  1|   2|  3|null| -21|-11.0|1019.0|  NW| 6.71|  0|  0|  No|  No|43.0|          0.0|  0.0|\n",
      "|2010|    1|  1|   3|  4|null| -21|-14.0|1019.0|  NW| 9.84|  0|  0|  No|  No|55.0|          0.0|  0.0|\n",
      "|2010|    1|  1|   4|  5|null| -20|-12.0|1018.0|  NW|12.97|  0|  0|  No|  No|51.0|          0.0|  0.0|\n",
      "+----+-----+---+----+---+----+----+-----+------+----+-----+---+---+----+----+----+-------------+-----+\n",
      "only showing top 5 rows\n",
      "\n"
     ]
    }
   ],
   "source": [
    "#Merge two datasets based on the key ('year','month','day','hour').\n",
    "dataset_final = dataset1.join(dataset2,['year','month','day','hour'])\n",
    "dataset_final = dataset_final.withColumnRenamed(\"pm2.5\",\"pm\")\n",
    "\n",
    "#Call the function to set \"NA\" values to null and change the type of PM2.5 concentration to Integer type for further cleaning.\n",
    "dataset_final = du.set_NA_to_null(dataset_final)\n",
    "dataset_final = dataset_final.withColumn(\"pm\",dataset_final[\"pm\"].cast(IntegerType()))\n",
    "dataset_final.show(5)"
   ]
  },
  {
   "cell_type": "code",
   "execution_count": 19,
   "metadata": {},
   "outputs": [
    {
     "name": "stdout",
     "output_type": "stream",
     "text": [
      "+---+----+----+-----+------+----+-----+---+---+----+----+----+-------------+-----+\n",
      "| No|  pm|DEWP| TEMP|  PRES|cbwd|  Iws| Is| Ir|rain|snow|HUMI|precipitation|Iprec|\n",
      "+---+----+----+-----+------+----+-----+---+---+----+----+----+-------------+-----+\n",
      "|  1|null| -21|-11.0|1021.0|  NW| 1.79|  0|  0|  No|  No|43.0|          0.0|  0.0|\n",
      "|  2|null| -21|-12.0|1020.0|  NW| 4.92|  0|  0|  No|  No|47.0|          0.0|  0.0|\n",
      "|  3|null| -21|-11.0|1019.0|  NW| 6.71|  0|  0|  No|  No|43.0|          0.0|  0.0|\n",
      "|  4|null| -21|-14.0|1019.0|  NW| 9.84|  0|  0|  No|  No|55.0|          0.0|  0.0|\n",
      "|  5|null| -20|-12.0|1018.0|  NW|12.97|  0|  0|  No|  No|51.0|          0.0|  0.0|\n",
      "+---+----+----+-----+------+----+-----+---+---+----+----+----+-------------+-----+\n",
      "only showing top 5 rows\n",
      "\n"
     ]
    }
   ],
   "source": [
    "#Drop the attributes from the datasets again.\n",
    "#Only the target and metoerology-related attributes are kept.\n",
    "dataset_final = dataset_final.drop('year','month','day','hour')\n",
    "dataset_final.show(5)"
   ]
  },
  {
   "cell_type": "code",
   "execution_count": 20,
   "metadata": {},
   "outputs": [
    {
     "name": "stdout",
     "output_type": "stream",
     "text": [
      "No \t 100.0 %\n",
      "pm \t 95.28 %\n",
      "DEWP \t 100.0 %\n",
      "TEMP \t 100.0 %\n",
      "PRES \t 100.0 %\n",
      "cbwd \t 100.0 %\n",
      "Iws \t 100.0 %\n",
      "Is \t 100.0 %\n",
      "Ir \t 100.0 %\n",
      "rain \t 100.0 %\n",
      "snow \t 100.0 %\n",
      "HUMI \t 100.0 %\n",
      "precipitation \t 99.94 %\n",
      "Iprec \t 99.94 %\n"
     ]
    }
   ],
   "source": [
    "#Call the function to check the completion of each column.\n",
    "du.check_completion(dataset_final)"
   ]
  },
  {
   "cell_type": "code",
   "execution_count": 21,
   "metadata": {},
   "outputs": [
    {
     "name": "stdout",
     "output_type": "stream",
     "text": [
      "No \t 100.0 %\n",
      "pm \t 100.0 %\n",
      "DEWP \t 100.0 %\n",
      "TEMP \t 100.0 %\n",
      "PRES \t 100.0 %\n",
      "cbwd \t 100.0 %\n",
      "Iws \t 100.0 %\n",
      "Is \t 100.0 %\n",
      "Ir \t 100.0 %\n",
      "rain \t 100.0 %\n",
      "snow \t 100.0 %\n",
      "HUMI \t 100.0 %\n",
      "precipitation \t 100.0 %\n",
      "Iprec \t 100.0 %\n"
     ]
    }
   ],
   "source": [
    "#Drop the instances with missing values.\n",
    "dataset_final = dataset_final.na.drop()\n",
    "du.check_completion(dataset_final)"
   ]
  },
  {
   "cell_type": "code",
   "execution_count": 22,
   "metadata": {},
   "outputs": [
    {
     "name": "stdout",
     "output_type": "stream",
     "text": [
      "+-------------+---+-----+\n",
      "|   Attributes|Min|  Max|\n",
      "+-------------+---+-----+\n",
      "|precipitation|0.0| 69.2|\n",
      "|        Iprec|0.0|223.0|\n",
      "+-------------+---+-----+\n",
      "\n"
     ]
    }
   ],
   "source": [
    "#Double-check the measurement error.\n",
    "max_min_df = du.check_max_and_min(dataset_final.select('precipitation','Iprec'))\n",
    "spark.createDataFrame(max_min_df).show()"
   ]
  },
  {
   "cell_type": "code",
   "execution_count": 23,
   "metadata": {},
   "outputs": [
    {
     "name": "stdout",
     "output_type": "stream",
     "text": [
      "+---+---+----+----+------+-----+---+---+----+-------------+-----+----+----+----+\n",
      "| No| pm|DEWP|TEMP|  PRES|  Iws| Is| Ir|HUMI|precipitation|Iprec|cbwd|rain|snow|\n",
      "+---+---+----+----+------+-----+---+---+----+-------------+-----+----+----+----+\n",
      "| 25|129| -16|-4.0|1020.0| 1.79|  0|  0|38.0|          0.0|  0.0| 0.0| 0.0| 0.0|\n",
      "| 26|148| -15|-4.0|1020.0| 2.68|  0|  0|42.0|          0.0|  0.0| 0.0| 0.0| 0.0|\n",
      "| 27|159| -11|-5.0|1021.0| 3.57|  0|  0|63.5|          0.0|  0.0| 0.0| 0.0| 0.0|\n",
      "| 28|181|  -7|-5.0|1022.0| 5.36|  1|  0|85.0|          0.0|  0.0| 0.0| 0.0| 1.0|\n",
      "| 29|138|  -7|-5.0|1022.0| 6.25|  2|  0|85.0|          0.0|  0.0| 0.0| 0.0| 1.0|\n",
      "| 30|109|  -7|-6.0|1022.0| 7.14|  3|  0|92.0|          0.0|  0.0| 0.0| 0.0| 1.0|\n",
      "| 31|105|  -7|-6.0|1023.0| 8.93|  4|  0|92.0|          0.0|  0.0| 0.0| 0.0| 1.0|\n",
      "| 32|124|  -7|-5.0|1024.0|10.72|  0|  0|85.0|          0.0|  0.0| 0.0| 0.0| 0.0|\n",
      "| 33|120|  -8|-6.0|1024.0|12.51|  0|  0|85.0|          0.0|  0.0| 0.0| 0.0| 0.0|\n",
      "| 34|132|  -7|-5.0|1025.0| 14.3|  0|  0|85.0|          0.0|  0.0| 0.0| 0.0| 0.0|\n",
      "| 35|140|  -7|-5.0|1026.0|17.43|  1|  0|85.0|          0.0|  0.0| 0.0| 0.0| 1.0|\n",
      "| 36|152|  -8|-5.0|1026.0|20.56|  0|  0|79.0|          0.0|  0.0| 0.0| 0.0| 0.0|\n",
      "| 37|148|  -8|-5.0|1026.0|23.69|  0|  0|79.0|          0.0|  0.0| 0.0| 0.0| 0.0|\n",
      "| 38|164|  -8|-5.0|1025.0|27.71|  0|  0|79.0|          0.0|  0.0| 0.0| 0.0| 0.0|\n",
      "| 39|158|  -9|-5.0|1025.0|31.73|  0|  0|73.0|          0.0|  0.0| 0.0| 0.0| 0.0|\n",
      "| 40|154|  -9|-5.0|1025.0|35.75|  0|  0|73.0|          0.0|  0.0| 0.0| 0.0| 0.0|\n",
      "| 41|159|  -9|-5.0|1026.0|37.54|  0|  0|73.0|          0.0|  0.0| 0.0| 0.0| 0.0|\n",
      "| 42|164|  -8|-5.0|1027.0|39.33|  0|  0|79.0|          0.0|  0.0| 0.0| 0.0| 0.0|\n",
      "| 43|170|  -8|-5.0|1027.0|42.46|  0|  0|79.0|          0.0|  0.0| 0.0| 0.0| 0.0|\n",
      "| 44|149|  -8|-5.0|1028.0|44.25|  0|  0|79.0|          0.0|  0.0| 0.0| 0.0| 0.0|\n",
      "+---+---+----+----+------+-----+---+---+----+-------------+-----+----+----+----+\n",
      "only showing top 20 rows\n",
      "\n"
     ]
    }
   ],
   "source": [
    "#Format the string-typed data to numeric type.\n",
    "indexer = StringIndexer(inputCol = \"cbwd\", outputCol = \"cbwd_trans\")\n",
    "dataset_final = indexer.fit(dataset_final).transform(dataset_final)\n",
    "indexer = StringIndexer(inputCol = \"rain\", outputCol = \"rain_trans\")\n",
    "dataset_final = indexer.fit(dataset_final).transform(dataset_final)\n",
    "indexer = StringIndexer(inputCol = \"snow\", outputCol = \"snow_trans\")\n",
    "dataset_final = indexer.fit(dataset_final).transform(dataset_final)\n",
    "dataset_final = dataset_final.drop('cbwd','rain','snow')\n",
    "dataset_final = dataset_final.withColumnRenamed('cbwd_trans','cbwd')\n",
    "dataset_final = dataset_final.withColumnRenamed('rain_trans','rain')\n",
    "dataset_final = dataset_final.withColumnRenamed('snow_trans','snow')\n",
    "dataset_final.show()"
   ]
  },
  {
   "cell_type": "code",
   "execution_count": 24,
   "metadata": {},
   "outputs": [],
   "source": [
    "#Write the cleaned data for reiteration later.\n",
    "dataset_final.write.csv('./Datasets/cleaned_data.csv', mode='overwrite',header = True)"
   ]
  },
  {
   "cell_type": "code",
   "execution_count": 25,
   "metadata": {},
   "outputs": [
    {
     "name": "stdout",
     "output_type": "stream",
     "text": [
      "Unimportant features:  ['Is', 'Ir', 'precipitation', 'Iprec', 'rain', 'snow']\n",
      "+---+---+----+----+------+----+----+----+\n",
      "| No| pm|DEWP|TEMP|  PRES| Iws|HUMI|cbwd|\n",
      "+---+---+----+----+------+----+----+----+\n",
      "| 25|129| -16|-4.0|1020.0|1.79|38.0| 0.0|\n",
      "| 26|148| -15|-4.0|1020.0|2.68|42.0| 0.0|\n",
      "| 27|159| -11|-5.0|1021.0|3.57|63.5| 0.0|\n",
      "| 28|181|  -7|-5.0|1022.0|5.36|85.0| 0.0|\n",
      "| 29|138|  -7|-5.0|1022.0|6.25|85.0| 0.0|\n",
      "+---+---+----+----+------+----+----+----+\n",
      "only showing top 5 rows\n",
      "\n"
     ]
    }
   ],
   "source": [
    "#Call the function to do feature selection.\n",
    "selected_data = feature_selection(dataset_final)\n",
    "dataset_final = spark.createDataFrame(selected_data)\n",
    "dataset_final.show(5)"
   ]
  },
  {
   "cell_type": "code",
   "execution_count": 26,
   "metadata": {},
   "outputs": [
    {
     "data": {
      "text/plain": [
       "['No',\n",
       " 'pm',\n",
       " 'DEWP',\n",
       " 'TEMP',\n",
       " 'PRES',\n",
       " 'Iws',\n",
       " 'HUMI',\n",
       " 'cbwd',\n",
       " 'DEWP_vec',\n",
       " 'TEMP_vec',\n",
       " 'PRES_vec',\n",
       " 'Iws_vec',\n",
       " 'HUMI_vec',\n",
       " 'DEWP_scaled',\n",
       " 'TEMP_scaled',\n",
       " 'PRES_scaled',\n",
       " 'Iws_scaled',\n",
       " 'HUMI_scaled']"
      ]
     },
     "execution_count": 26,
     "metadata": {},
     "output_type": "execute_result"
    }
   ],
   "source": [
    "#Call the function to normalize the predictors.\n",
    "dataset_final = normalization(dataset_final)\n",
    "dataset_final.columns"
   ]
  },
  {
   "cell_type": "code",
   "execution_count": 27,
   "metadata": {},
   "outputs": [
    {
     "name": "stdout",
     "output_type": "stream",
     "text": [
      "+---+----+--------------------+--------------------+--------------------+--------------------+--------------------+\n",
      "| pm|cbwd|         DEWP_scaled|         TEMP_scaled|         PRES_scaled|          Iws_scaled|         HUMI_scaled|\n",
      "+---+----+--------------------+--------------------+--------------------+--------------------+--------------------+\n",
      "|129| 0.0|[0.35294117647058...|[0.2459016393442623]|[0.5272727272727272]|[0.00237151352116...|[0.3673469387755102]|\n",
      "|148| 0.0|[0.36764705882352...|[0.2459016393442623]|[0.5272727272727272]|[0.00394662324791...|[0.40816326530612...|\n",
      "|159| 0.0|[0.4264705882352941]|[0.22950819672131...|[0.5454545454545454]|[0.00552173297465...|[0.6275510204081632]|\n",
      "|181| 0.0|[0.4852941176470588]|[0.22950819672131...|[0.5636363636363636]|[0.00868965029024...|[0.8469387755102041]|\n",
      "|138| 0.0|[0.4852941176470588]|[0.22950819672131...|[0.5636363636363636]|[0.01026476001698...|[0.8469387755102041]|\n",
      "+---+----+--------------------+--------------------+--------------------+--------------------+--------------------+\n",
      "only showing top 5 rows\n",
      "\n"
     ]
    }
   ],
   "source": [
    "#Drop duplicated columns after normalization.\n",
    "dataset_final = dataset_final.drop(\"No\",\"DEWP\", \"TEMP\", \"PRES\",\"Iws\",\"HUMI\",\"DEWP_vec\", \n",
    "                             \"TEMP_vec\", \"PRES_vec\",\"Iws_vec\",\"HUMI_vec\")\n",
    "dataset_final.show(5)"
   ]
  },
  {
   "cell_type": "code",
   "execution_count": 28,
   "metadata": {},
   "outputs": [
    {
     "data": {
      "text/plain": [
       "[Row(pm=129, cbwd=0.0, DEWP_scaled=DenseVector([0.3529]), TEMP_scaled=DenseVector([0.2459]), PRES_scaled=DenseVector([0.5273]), Iws_scaled=DenseVector([0.0024]), HUMI_scaled=DenseVector([0.3673]), predictors=DenseVector([0.3529, 0.2459, 0.5273, 0.0024, 0.3673, 0.0]))]"
      ]
     },
     "execution_count": 28,
     "metadata": {},
     "output_type": "execute_result"
    }
   ],
   "source": [
    "#Set predictors as input columns.\n",
    "assembler = VectorAssembler(\n",
    "    inputCols=['DEWP_scaled','TEMP_scaled','PRES_scaled','Iws_scaled','HUMI_scaled','cbwd'],\n",
    "    outputCol=\"predictors\")\n",
    "dataset_final = assembler.transform(dataset_final)\n",
    "dataset_final.head(1)"
   ]
  },
  {
   "cell_type": "code",
   "execution_count": 29,
   "metadata": {},
   "outputs": [
    {
     "name": "stdout",
     "output_type": "stream",
     "text": [
      "+--------------------+---+\n",
      "|          predictors| pm|\n",
      "+--------------------+---+\n",
      "|[0.35294117647058...|129|\n",
      "|[0.36764705882352...|148|\n",
      "|[0.42647058823529...|159|\n",
      "|[0.48529411764705...|181|\n",
      "|[0.48529411764705...|138|\n",
      "|[0.48529411764705...|109|\n",
      "|[0.48529411764705...|105|\n",
      "|[0.48529411764705...|124|\n",
      "|[0.47058823529411...|120|\n",
      "|[0.48529411764705...|132|\n",
      "|[0.48529411764705...|140|\n",
      "|[0.47058823529411...|152|\n",
      "|[0.47058823529411...|148|\n",
      "|[0.47058823529411...|164|\n",
      "|[0.45588235294117...|158|\n",
      "|[0.45588235294117...|154|\n",
      "|[0.45588235294117...|159|\n",
      "|[0.47058823529411...|164|\n",
      "|[0.47058823529411...|170|\n",
      "|[0.47058823529411...|149|\n",
      "+--------------------+---+\n",
      "only showing top 20 rows\n",
      "\n"
     ]
    }
   ],
   "source": [
    "#Select predictors and the target for data mining.\n",
    "dataset_final = dataset_final.select(\"predictors\",\"pm\")\n",
    "dataset_final.show()"
   ]
  },
  {
   "cell_type": "code",
   "execution_count": 30,
   "metadata": {},
   "outputs": [],
   "source": [
    "#Build and choose the parameters for Linear Regression Model.\n",
    "lr = LinearRegression(featuresCol='predictors', labelCol='pm',\n",
    "                      fitIntercept=True, standardization=True)"
   ]
  },
  {
   "cell_type": "code",
   "execution_count": 31,
   "metadata": {},
   "outputs": [],
   "source": [
    "#Build and choose the parameters for Desicion Tree Regressor Model.\n",
    "tree = DecisionTreeRegressor(featuresCol=\"predictors\", labelCol='pm',\n",
    "                             maxDepth=5, minInstancesPerNode=1)"
   ]
  },
  {
   "cell_type": "code",
   "execution_count": 32,
   "metadata": {},
   "outputs": [
    {
     "name": "stdout",
     "output_type": "stream",
     "text": [
      "+-------+-----------------+\n",
      "|summary|               pm|\n",
      "+-------+-----------------+\n",
      "|  count|            29181|\n",
      "|   mean|99.09064117062472|\n",
      "| stddev|92.28512475659365|\n",
      "|    min|                0|\n",
      "|    max|              994|\n",
      "+-------+-----------------+\n",
      "\n",
      "+-------+-----------------+\n",
      "|summary|               pm|\n",
      "+-------+-----------------+\n",
      "|  count|            12551|\n",
      "|   mean| 97.4940642179906|\n",
      "| stddev|91.55469543174897|\n",
      "|    min|                1|\n",
      "|    max|              972|\n",
      "+-------+-----------------+\n",
      "\n"
     ]
    }
   ],
   "source": [
    "#Split the dataset into two parts, 70% for training and 30% for testing.\n",
    "data_train,data_test = dataset_final.randomSplit([0.7,0.3])\n",
    "data_train.describe().show()\n",
    "data_test.describe().show()"
   ]
  },
  {
   "cell_type": "code",
   "execution_count": 33,
   "metadata": {},
   "outputs": [],
   "source": [
    "#Conduct the Linear Regression Model.\n",
    "lr_model = lr.fit(data_train)\n",
    "lr_test = lr_model.evaluate(data_test)"
   ]
  },
  {
   "cell_type": "code",
   "execution_count": 34,
   "metadata": {},
   "outputs": [
    {
     "name": "stdout",
     "output_type": "stream",
     "text": [
      "Root Mean Squared Error: \t 80.23706396254407\n",
      "R2 Score: \t 0.24403527141654535\n",
      "Mean Absolute Error: \t 57.81468011483532\n",
      "Maximum Error: \t 883.7341624867597\n",
      "Minimum Error: \t -176.9672632516825\n",
      "Mean Error: \t 8.01492205937393e-12\n"
     ]
    }
   ],
   "source": [
    "#Call the function to analyze the training data of Linear Regression Model.\n",
    "analyze_result_lr(lr_model.summary)"
   ]
  },
  {
   "cell_type": "code",
   "execution_count": 35,
   "metadata": {},
   "outputs": [
    {
     "name": "stdout",
     "output_type": "stream",
     "text": [
      "Root Mean Squared Error: \t 79.29486985683005\n",
      "R2 Score: \t 0.2498233527015985\n",
      "Mean Absolute Error: \t 57.07648693840049\n",
      "Maximum Error: \t 862.6684561995112\n",
      "Minimum Error: \t -167.84121889099265\n",
      "Mean Error: \t 1.7392546866693408\n"
     ]
    }
   ],
   "source": [
    "#Call the function to analyze the testing data of Linear Regression Model.\n",
    "analyze_result_lr(lr_test)"
   ]
  },
  {
   "cell_type": "code",
   "execution_count": 36,
   "metadata": {},
   "outputs": [
    {
     "name": "stdout",
     "output_type": "stream",
     "text": [
      "+-------------------+\n",
      "|          residuals|\n",
      "+-------------------+\n",
      "|  -29.3851756767326|\n",
      "| -32.53942721297652|\n",
      "|-34.149824535442605|\n",
      "|-26.671913213875598|\n",
      "|-32.731700702071734|\n",
      "| -28.18426089830571|\n",
      "| -35.14931985460399|\n",
      "| -39.68230613715424|\n",
      "|-24.658709537507605|\n",
      "| -41.54633678136818|\n",
      "| -56.60652874565926|\n",
      "|-24.064838758326786|\n",
      "|-26.668459809357316|\n",
      "|-34.188615128466665|\n",
      "| -32.97782162178159|\n",
      "| -37.55527049472785|\n",
      "| -57.72282770427371|\n",
      "|-55.988563656003464|\n",
      "| -41.66399011763933|\n",
      "| -42.95380869842056|\n",
      "+-------------------+\n",
      "only showing top 20 rows\n",
      "\n"
     ]
    }
   ],
   "source": [
    "#Show the residuals of Linear Regression Model.\n",
    "lr_test.residuals.show()"
   ]
  },
  {
   "cell_type": "code",
   "execution_count": 37,
   "metadata": {},
   "outputs": [
    {
     "data": {
      "image/png": "[encoded data removed]",
      "text/plain": [
       "<Figure size 432x288 with 1 Axes>"
      ]
     },
     "metadata": {},
     "output_type": "display_data"
    },
    {
     "data": {
      "image/png": "[encoded data removed]",
      "text/plain": [
       "<Figure size 432x288 with 1 Axes>"
      ]
     },
     "metadata": {},
     "output_type": "display_data"
    }
   ],
   "source": [
    "#Call the function to visualize the residuals of Linear Regression Model.\n",
    "visualize_residuals(lr_test.predictions)"
   ]
  },
  {
   "cell_type": "code",
   "execution_count": 38,
   "metadata": {},
   "outputs": [
    {
     "data": {
      "image/png": "[encoded data removed]",
      "text/plain": [
       "<Figure size 432x288 with 1 Axes>"
      ]
     },
     "metadata": {},
     "output_type": "display_data"
    }
   ],
   "source": [
    "#Call the function to compare and visualize the predictions and actual records of Linear Regression Model.\n",
    "prediction_actual_comparison_visulisation(lr_test.predictions)"
   ]
  },
  {
   "cell_type": "code",
   "execution_count": 39,
   "metadata": {},
   "outputs": [
    {
     "name": "stdout",
     "output_type": "stream",
     "text": [
      "Coefficients: \t [-84.90782152906662,-59.71800704206059,-67.3815633863143,-168.66240238117305,173.2302302463087,-7.893707355109153]\n",
      "Intercept: \t 136.45462949403935\n"
     ]
    }
   ],
   "source": [
    "#Show coefficients and intercept of Linear Regression Model.\n",
    "coef = lr_model.coefficients\n",
    "intercept = lr_model.intercept\n",
    "print(\"Coefficients:\",\"\\t\",coef)\n",
    "print(\"Intercept:\",\"\\t\",intercept)"
   ]
  },
  {
   "cell_type": "code",
   "execution_count": 40,
   "metadata": {},
   "outputs": [
    {
     "data": {
      "image/png": "[encoded data removed]",
      "text/plain": [
       "<Figure size 432x288 with 1 Axes>"
      ]
     },
     "metadata": {},
     "output_type": "display_data"
    }
   ],
   "source": [
    "#Call the function to visualize the feature imporatance of Linear Regression Model.\n",
    "predictors = get_predictors(spark.createDataFrame(selected_data))\n",
    "feature_importance(coef,predictors)"
   ]
  },
  {
   "cell_type": "code",
   "execution_count": 41,
   "metadata": {},
   "outputs": [
    {
     "data": {
      "image/png": "[encoded data removed]",
      "text/plain": [
       "<Figure size 432x288 with 1 Axes>"
      ]
     },
     "metadata": {},
     "output_type": "display_data"
    }
   ],
   "source": [
    "#Call the function to visualize the coefficients.\n",
    "coefficients(coef, predictors)"
   ]
  },
  {
   "cell_type": "code",
   "execution_count": 42,
   "metadata": {},
   "outputs": [
    {
     "data": {
      "image/png": "[encoded data removed]",
      "text/plain": [
       "<Figure size 432x288 with 1 Axes>"
      ]
     },
     "metadata": {},
     "output_type": "display_data"
    },
    {
     "data": {
      "image/png": "[encoded data removed]",
      "text/plain": [
       "<Figure size 432x288 with 1 Axes>"
      ]
     },
     "metadata": {},
     "output_type": "display_data"
    },
    {
     "data": {
      "image/png": "[encoded data removed]",
      "text/plain": [
       "<Figure size 432x288 with 1 Axes>"
      ]
     },
     "metadata": {},
     "output_type": "display_data"
    },
    {
     "data": {
      "image/png": "[encoded data removed]",
      "text/plain": [
       "<Figure size 432x288 with 1 Axes>"
      ]
     },
     "metadata": {},
     "output_type": "display_data"
    },
    {
     "data": {
      "image/png": "[encoded data removed]",
      "text/plain": [
       "<Figure size 432x288 with 1 Axes>"
      ]
     },
     "metadata": {},
     "output_type": "display_data"
    }
   ],
   "source": [
    "#Call the function to visualize how each attribute affects the target respectively.\n",
    "effect_graph(coef, predictors, intercept)"
   ]
  },
  {
   "cell_type": "code",
   "execution_count": 43,
   "metadata": {},
   "outputs": [],
   "source": [
    "#Conduct the Desicion Tree Regressor Model.\n",
    "tree_model = tree.fit(data_train)\n",
    "tree_train = tree_model.transform(data_train)\n",
    "tree_test = tree_model.transform(data_test)"
   ]
  },
  {
   "cell_type": "code",
   "execution_count": 44,
   "metadata": {},
   "outputs": [
    {
     "name": "stdout",
     "output_type": "stream",
     "text": [
      "Root Mean Squared Error: \t 75.86465229365457\n",
      "R2 Score: \t 0.3241809662265632\n",
      "Mean Absolute Error: \t 52.98458428045853\n",
      "Maximum Error: \t 897.5703380588877\n",
      "Minimum Error: \t -220.32172131147541\n",
      "Mean Error: \t 1.1638690011750441e-11\n"
     ]
    }
   ],
   "source": [
    "#Call the function to analyze the training data of Desicion Tree Regressor Model.\n",
    "analyze_result_tree(tree_train)"
   ]
  },
  {
   "cell_type": "code",
   "execution_count": 45,
   "metadata": {},
   "outputs": [
    {
     "name": "stdout",
     "output_type": "stream",
     "text": [
      "Root Mean Squared Error: \t 75.75105620225976\n",
      "R2 Score: \t 0.3153781676528271\n",
      "Mean Absolute Error: \t 52.77318566564456\n",
      "Maximum Error: \t 942.3237774030354\n",
      "Minimum Error: \t -214.32172131147541\n",
      "Mean Error: \t 1.382547664630465\n"
     ]
    }
   ],
   "source": [
    "#Call the function to analyze the testing data of Desicion Tree Regressor Model.\n",
    "analyze_result_tree(tree_test)"
   ]
  },
  {
   "cell_type": "code",
   "execution_count": 46,
   "metadata": {},
   "outputs": [
    {
     "name": "stdout",
     "output_type": "stream",
     "text": [
      "+-------------------+\n",
      "|          residuals|\n",
      "+-------------------+\n",
      "|-11.616839261593878|\n",
      "|-13.616839261593878|\n",
      "|-11.616839261593878|\n",
      "| -7.616839261593878|\n",
      "|-11.616839261593878|\n",
      "| -5.616839261593878|\n",
      "|-21.676222596964585|\n",
      "|-20.676222596964585|\n",
      "| -6.616839261593878|\n",
      "|-16.676222596964585|\n",
      "|-24.676222596964585|\n",
      "|-11.616839261593878|\n",
      "| -6.616839261593878|\n",
      "|-11.616839261593878|\n",
      "| -7.616839261593878|\n",
      "|-20.676222596964585|\n",
      "|-23.676222596964585|\n",
      "|-23.676222596964585|\n",
      "| -7.616839261593878|\n",
      "|-13.616839261593878|\n",
      "+-------------------+\n",
      "only showing top 20 rows\n",
      "\n"
     ]
    }
   ],
   "source": [
    "#Show the residuals of Desicion Tree Regressor Model.\n",
    "predict_data = tree_test.select(\"pm\",\"prediction\")\n",
    "residuals = predict_data.withColumn('residuals',\n",
    "            predict_data['pm']-predict_data['prediction']).select(\"residuals\")\n",
    "residuals.show()"
   ]
  },
  {
   "cell_type": "code",
   "execution_count": 47,
   "metadata": {},
   "outputs": [
    {
     "data": {
      "text/plain": [
       "5"
      ]
     },
     "execution_count": 47,
     "metadata": {},
     "output_type": "execute_result"
    }
   ],
   "source": [
    "#Show the depth of the Desicion Tree.\n",
    "tree_model.depth"
   ]
  },
  {
   "cell_type": "code",
   "execution_count": 48,
   "metadata": {},
   "outputs": [
    {
     "data": {
      "text/plain": [
       "63"
      ]
     },
     "execution_count": 48,
     "metadata": {},
     "output_type": "execute_result"
    }
   ],
   "source": [
    "#Show the amount of the nodes of the Desicion Tree.\n",
    "tree_model.numNodes"
   ]
  },
  {
   "cell_type": "code",
   "execution_count": 49,
   "metadata": {},
   "outputs": [
    {
     "data": {
      "image/png": "[encoded data removed]",
      "text/plain": [
       "<Figure size 432x288 with 1 Axes>"
      ]
     },
     "metadata": {},
     "output_type": "display_data"
    },
    {
     "data": {
      "image/png": "[encoded data removed]",
      "text/plain": [
       "<Figure size 432x288 with 1 Axes>"
      ]
     },
     "metadata": {},
     "output_type": "display_data"
    }
   ],
   "source": [
    "#Call the function to visualize the residuals of Desicion Tree Regressor Model.\n",
    "visualize_residuals(tree_test)"
   ]
  },
  {
   "cell_type": "code",
   "execution_count": 50,
   "metadata": {},
   "outputs": [
    {
     "data": {
      "image/png": "[encoded data removed]",
      "text/plain": [
       "<Figure size 432x288 with 1 Axes>"
      ]
     },
     "metadata": {},
     "output_type": "display_data"
    }
   ],
   "source": [
    "#Call the function to compare and visualize the predictions and actual records of Desicion Tree Regressor Model.\n",
    "prediction_actual_comparison_visulisation(tree_test)"
   ]
  },
  {
   "cell_type": "code",
   "execution_count": 51,
   "metadata": {
    "scrolled": true
   },
   "outputs": [
    {
     "data": {
      "text/plain": [
       "SparseVector(6, {0: 0.026, 1: 0.1778, 2: 0.0179, 3: 0.1266, 4: 0.5972, 5: 0.0545})"
      ]
     },
     "execution_count": 51,
     "metadata": {},
     "output_type": "execute_result"
    }
   ],
   "source": [
    "#Show the feature imporatance of Desicion Tree Regressor Model.\n",
    "importance = tree_model.featureImportances\n",
    "importance"
   ]
  },
  {
   "cell_type": "code",
   "execution_count": 52,
   "metadata": {},
   "outputs": [
    {
     "data": {
      "image/png": "[encoded data removed]",
      "text/plain": [
       "<Figure size 432x288 with 1 Axes>"
      ]
     },
     "metadata": {},
     "output_type": "display_data"
    }
   ],
   "source": [
    "#Call the function to visualize the feature imporatance of Desicion Tree Regressor Model.\n",
    "predictors = get_predictors(spark.createDataFrame(selected_data))\n",
    "feature_importance(importance,predictors)"
   ]
  },
  {
   "cell_type": "code",
   "execution_count": 53,
   "metadata": {},
   "outputs": [
    {
     "name": "stdout",
     "output_type": "stream",
     "text": [
      "DecisionTreeRegressionModel (uid=DecisionTreeRegressor_4ba78ded3db8c3ffee7b) of depth 5 with 63 nodes\n",
      "  If (HUMI <= 0.4387755102040816)\n",
      "   If (cbwd <= 0.0)\n",
      "    If (HUMI <= 0.2653061224489796)\n",
      "     If (HUMI <= 0.16326530612244897)\n",
      "      If (HUMI <= 0.10204081632653061)\n",
      "       Predict: 45.70952380952381\n",
      "      Else (HUMI > 0.10204081632653061)\n",
      "       Predict: 59.002583979328165\n",
      "     Else (HUMI > 0.16326530612244897)\n",
      "      If (TEMP <= 0.7213114754098361)\n",
      "       Predict: 75.90616966580977\n",
      "      Else (TEMP > 0.7213114754098361)\n",
      "       Predict: 52.20564516129032\n",
      "    Else (HUMI > 0.2653061224489796)\n",
      "     If (TEMP <= 0.6557377049180327)\n",
      "      If (Iws <= 0.03796191420076455)\n",
      "       Predict: 114.28137384412153\n",
      "      Else (Iws > 0.03796191420076455)\n",
      "       Predict: 84.54131054131054\n",
      "     Else (TEMP > 0.6557377049180327)\n",
      "      If (Iws <= 0.004743027042333286)\n",
      "       Predict: 61.00714285714286\n",
      "      Else (Iws > 0.004743027042333286)\n",
      "       Predict: 80.26243781094527\n",
      "   Else (cbwd > 0.0)\n",
      "    If (Iws <= 0.008707348152343197)\n",
      "     If (HUMI <= 0.3163265306122449)\n",
      "      If (HUMI <= 0.21428571428571427)\n",
      "       Predict: 39.934861278648974\n",
      "      Else (HUMI > 0.21428571428571427)\n",
      "       Predict: 61.23719376391982\n",
      "     Else (HUMI > 0.3163265306122449)\n",
      "      If (DEWP <= 0.6911764705882353)\n",
      "       Predict: 96.42966194111233\n",
      "      Else (DEWP > 0.6911764705882353)\n",
      "       Predict: 58.43589743589744\n",
      "    Else (Iws > 0.008707348152343197)\n",
      "     If (Iws <= 0.06645547217896078)\n",
      "      If (DEWP <= 0.38235294117647056)\n",
      "       Predict: 29.676222596964585\n",
      "      Else (DEWP > 0.38235294117647056)\n",
      "       Predict: 45.44044558697515\n",
      "     Else (Iws > 0.06645547217896078)\n",
      "      If (PRES <= 0.43636363636363634)\n",
      "       Predict: 29.747603833865814\n",
      "      Else (PRES > 0.43636363636363634)\n",
      "       Predict: 17.616839261593878\n",
      "  Else (HUMI > 0.4387755102040816)\n",
      "   If (TEMP <= 0.4262295081967213)\n",
      "    If (Iws <= 0.022157723347019685)\n",
      "     If (HUMI <= 0.7142857142857143)\n",
      "      If (PRES <= 0.5454545454545454)\n",
      "       Predict: 187.51216216216216\n",
      "      Else (PRES > 0.5454545454545454)\n",
      "       Predict: 138.51137724550898\n",
      "     Else (HUMI > 0.7142857142857143)\n",
      "      If (DEWP <= 0.5735294117647058)\n",
      "       Predict: 225.32172131147541\n",
      "      Else (DEWP > 0.5735294117647058)\n",
      "       Predict: 174.83988355167395\n",
      "    Else (Iws > 0.022157723347019685)\n",
      "     If (Iws <= 0.05380150077870594)\n",
      "      If (DEWP <= 0.4117647058823529)\n",
      "       Predict: 75.3177570093458\n",
      "      Else (DEWP > 0.4117647058823529)\n",
      "       Predict: 149.81616161616162\n",
      "     Else (Iws > 0.05380150077870594)\n",
      "      If (Iws <= 0.1677580348293926)\n",
      "       Predict: 96.71219512195123\n",
      "      Else (Iws > 0.1677580348293926)\n",
      "       Predict: 54.84848484848485\n",
      "   Else (TEMP > 0.4262295081967213)\n",
      "    If (HUMI <= 0.7244897959183674)\n",
      "     If (cbwd <= 0.0)\n",
      "      If (PRES <= 0.4)\n",
      "       Predict: 105.81268624946786\n",
      "      Else (PRES > 0.4)\n",
      "       Predict: 122.06906474820144\n",
      "     Else (cbwd > 0.0)\n",
      "      If (Iws <= 0.013414979470479966)\n",
      "       Predict: 96.84958601655934\n",
      "      Else (Iws > 0.013414979470479966)\n",
      "       Predict: 52.601063829787236\n",
      "    Else (HUMI > 0.7244897959183674)\n",
      "     If (TEMP <= 0.5737704918032787)\n",
      "      If (Iws <= 0.007893246495823306)\n",
      "       Predict: 162.75714285714287\n",
      "      Else (Iws > 0.007893246495823306)\n",
      "       Predict: 107.3586956521739\n",
      "     Else (TEMP > 0.5737704918032787)\n",
      "      If (TEMP <= 0.7049180327868853)\n",
      "       Predict: 105.21802602348461\n",
      "      Else (TEMP > 0.7049180327868853)\n",
      "       Predict: 144.13508771929824\n",
      "\n"
     ]
    }
   ],
   "source": [
    "#Show the detailed Desision Tree.\n",
    "tree_detail = tree_model.toDebugString\n",
    "for i, feat in enumerate(predictors):\n",
    "    tree_detail = tree_detail.replace('feature ' + str(i), feat)\n",
    "print(tree_detail)"
   ]
  },
  {
   "cell_type": "code",
   "execution_count": null,
   "metadata": {},
   "outputs": [],
   "source": []
  }
 ],
 "metadata": {
  "kernelspec": {
   "display_name": "Python 3",
   "language": "python",
   "name": "python3"
  },
  "language_info": {
   "codemirror_mode": {
    "name": "ipython",
    "version": 3
   },
   "file_extension": ".py",
   "mimetype": "text/x-python",
   "name": "python",
   "nbconvert_exporter": "python",
   "pygments_lexer": "ipython3",
   "version": "3.5.2"
  }
 },
 "nbformat": 4,
 "nbformat_minor": 2
}
